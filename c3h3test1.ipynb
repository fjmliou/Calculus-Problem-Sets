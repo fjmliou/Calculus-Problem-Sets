{
 "metadata": {
  "name": "",
  "signature": "sha256:67f93fd6e7edf343c3ce95d7b9f38be5688a6558b4e57e74ee56d8307cfec877"
 },
 "nbformat": 3,
 "nbformat_minor": 0,
 "worksheets": [
  {
   "cells": [
    {
     "cell_type": "markdown",
     "metadata": {},
     "source": [
      "# $$\\frac{d}{dx}\\int_a^x f(y) dy = d(x) $$"
     ]
    },
    {
     "cell_type": "code",
     "collapsed": false,
     "input": [],
     "language": "python",
     "metadata": {},
     "outputs": []
    }
   ],
   "metadata": {}
  }
 ]
}